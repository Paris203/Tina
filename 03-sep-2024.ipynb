{
 "cells": [
  {
   "cell_type": "code",
   "execution_count": 1,
   "id": "a7c9740f",
   "metadata": {
    "execution": {
     "iopub.execute_input": "2024-09-14T04:24:31.279969Z",
     "iopub.status.busy": "2024-09-14T04:24:31.279508Z",
     "iopub.status.idle": "2024-09-14T04:24:33.284132Z",
     "shell.execute_reply": "2024-09-14T04:24:33.282846Z"
    },
    "papermill": {
     "duration": 2.012566,
     "end_time": "2024-09-14T04:24:33.286572",
     "exception": false,
     "start_time": "2024-09-14T04:24:31.274006",
     "status": "completed"
    },
    "tags": []
   },
   "outputs": [],
   "source": [
    "!git config --global user.name \"Paris203\"\n",
    "!git config --global user.email \"bolongott@gmail.com\""
   ]
  },
  {
   "cell_type": "code",
   "execution_count": 2,
   "id": "586908be",
   "metadata": {
    "execution": {
     "iopub.execute_input": "2024-09-14T04:24:33.294856Z",
     "iopub.status.busy": "2024-09-14T04:24:33.294470Z",
     "iopub.status.idle": "2024-09-14T04:24:34.271088Z",
     "shell.execute_reply": "2024-09-14T04:24:34.269957Z"
    },
    "papermill": {
     "duration": 0.983186,
     "end_time": "2024-09-14T04:24:34.273359",
     "exception": false,
     "start_time": "2024-09-14T04:24:33.290173",
     "status": "completed"
    },
    "tags": []
   },
   "outputs": [
    {
     "name": "stdout",
     "output_type": "stream",
     "text": [
      "/kaggle/working\r\n"
     ]
    }
   ],
   "source": [
    "!pwd"
   ]
  },
  {
   "cell_type": "code",
   "execution_count": 3,
   "id": "f918e2c4",
   "metadata": {
    "execution": {
     "iopub.execute_input": "2024-09-14T04:24:34.281745Z",
     "iopub.status.busy": "2024-09-14T04:24:34.281393Z",
     "iopub.status.idle": "2024-09-14T04:25:05.691277Z",
     "shell.execute_reply": "2024-09-14T04:25:05.690354Z"
    },
    "papermill": {
     "duration": 31.416931,
     "end_time": "2024-09-14T04:25:05.693756",
     "exception": false,
     "start_time": "2024-09-14T04:24:34.276825",
     "status": "completed"
    },
    "tags": []
   },
   "outputs": [
    {
     "name": "stdout",
     "output_type": "stream",
     "text": [
      "Cloning into 'Gestion'...\r\n",
      "remote: Enumerating objects: 12066, done.\u001b[K\r\n",
      "remote: Counting objects: 100% (7/7), done.\u001b[K\r\n",
      "remote: Compressing objects: 100% (6/6), done.\u001b[K\r\n",
      "remote: Total 12066 (delta 0), reused 3 (delta 0), pack-reused 12059 (from 1)\u001b[K\r\n",
      "Receiving objects: 100% (12066/12066), 1.16 GiB | 54.33 MiB/s, done.\r\n",
      "Resolving deltas: 100% (9/9), done.\r\n",
      "Updating files: 100% (11876/11876), done.\r\n"
     ]
    }
   ],
   "source": [
    " !git clone https://github.com/Paris203/Gestion.git"
   ]
  },
  {
   "cell_type": "code",
   "execution_count": 4,
   "id": "9ee8c7f7",
   "metadata": {
    "execution": {
     "iopub.execute_input": "2024-09-14T04:25:05.728749Z",
     "iopub.status.busy": "2024-09-14T04:25:05.728379Z",
     "iopub.status.idle": "2024-09-14T04:25:05.735173Z",
     "shell.execute_reply": "2024-09-14T04:25:05.734282Z"
    },
    "papermill": {
     "duration": 0.026456,
     "end_time": "2024-09-14T04:25:05.737109",
     "exception": false,
     "start_time": "2024-09-14T04:25:05.710653",
     "status": "completed"
    },
    "tags": []
   },
   "outputs": [
    {
     "name": "stdout",
     "output_type": "stream",
     "text": [
      "/kaggle/working/Gestion\n"
     ]
    }
   ],
   "source": [
    "%cd /kaggle/working/Gestion"
   ]
  },
  {
   "cell_type": "code",
   "execution_count": 5,
   "id": "8b071740",
   "metadata": {
    "execution": {
     "iopub.execute_input": "2024-09-14T04:25:05.771822Z",
     "iopub.status.busy": "2024-09-14T04:25:05.771507Z",
     "iopub.status.idle": "2024-09-14T04:25:06.780516Z",
     "shell.execute_reply": "2024-09-14T04:25:06.779212Z"
    },
    "papermill": {
     "duration": 1.02905,
     "end_time": "2024-09-14T04:25:06.782968",
     "exception": false,
     "start_time": "2024-09-14T04:25:05.753918",
     "status": "completed"
    },
    "tags": []
   },
   "outputs": [
    {
     "name": "stdout",
     "output_type": "stream",
     "text": [
      "total 48\r\n",
      "-rw-r--r-- 1 root root 11357 Sep 14 04:25 LICENSE\r\n",
      "drwxr-xr-x 4 root root  4096 Sep 14 04:25 \u001b[0m\u001b[01;34mcheckpoint\u001b[0m/\r\n",
      "-rw-r--r-- 1 root root  2632 Sep 14 04:25 config.py\r\n",
      "drwxr-xr-x 5 root root  4096 Sep 14 04:25 \u001b[01;34mdatasets_m\u001b[0m/\r\n",
      "drwxr-xr-x 2 root root  4096 Sep 14 04:25 \u001b[01;34menvconfig\u001b[0m/\r\n",
      "drwxr-xr-x 3 root root  4096 Sep 14 04:25 \u001b[01;34mmodels\u001b[0m/\r\n",
      "drwxr-xr-x 2 root root  4096 Sep 14 04:25 \u001b[01;34mnetworks\u001b[0m/\r\n",
      "-rw-r--r-- 1 root root  1808 Sep 14 04:25 test.py\r\n",
      "-rw-r--r-- 1 root root  2430 Sep 14 04:25 train.py\r\n",
      "drwxr-xr-x 2 root root  4096 Sep 14 04:25 \u001b[01;34mutils\u001b[0m/\r\n"
     ]
    }
   ],
   "source": [
    "ls -l"
   ]
  },
  {
   "cell_type": "code",
   "execution_count": 6,
   "id": "49e061fd",
   "metadata": {
    "execution": {
     "iopub.execute_input": "2024-09-14T04:25:06.825847Z",
     "iopub.status.busy": "2024-09-14T04:25:06.825417Z",
     "iopub.status.idle": "2024-09-14T12:36:31.764762Z",
     "shell.execute_reply": "2024-09-14T12:36:31.763768Z"
    },
    "papermill": {
     "duration": 29484.960764,
     "end_time": "2024-09-14T12:36:31.767043",
     "exception": false,
     "start_time": "2024-09-14T04:25:06.806279",
     "status": "completed"
    },
    "tags": []
   },
   "outputs": [
    {
     "name": "stdout",
     "output_type": "stream",
     "text": [
      "Loading CUB trainset\r\n",
      "Loading CUB testset\r\n",
      "Created directory for saving checkpoints: result of the model\r\n",
      "Model loaded successfully.\r\n",
      "Checkpoint loaded from epoch 100, with learning rate 0.001 and train accuracy 1.000\r\n",
      "Resuming training from epoch 101\r\n",
      "Training 101 epoch\r\n",
      "Evaluating\r\n",
      "Test set: raw accuracy: 85.67%, local accuracy: 88.59%\r\n",
      "Saving checkpoint\r\n",
      "Training 102 epoch\r\n",
      "Evaluating\r\n",
      "Test set: raw accuracy: 85.35%, local accuracy: 88.18%\r\n",
      "Saving checkpoint\r\n",
      "Training 103 epoch\r\n",
      "Evaluating\r\n",
      "Test set: raw accuracy: 85.57%, local accuracy: 88.57%\r\n",
      "Saving checkpoint\r\n",
      "Training 104 epoch\r\n",
      "Evaluating\r\n",
      "Test set: raw accuracy: 85.45%, local accuracy: 88.23%\r\n",
      "Saving checkpoint\r\n",
      "Training 105 epoch\r\n",
      "Evaluating\r\n",
      "Test set: raw accuracy: 85.47%, local accuracy: 88.04%\r\n",
      "Saving checkpoint\r\n",
      "Training 106 epoch\r\n",
      "Evaluating\r\n",
      "Test set: raw accuracy: 85.35%, local accuracy: 87.88%\r\n",
      "Saving checkpoint\r\n",
      "Training 107 epoch\r\n",
      "Evaluating\r\n",
      "Test set: raw accuracy: 83.67%, local accuracy: 86.69%\r\n",
      "Saving checkpoint\r\n",
      "Training 108 epoch\r\n",
      "Evaluating\r\n",
      "Test set: raw accuracy: 84.88%, local accuracy: 88.00%\r\n",
      "Saving checkpoint\r\n",
      "Training 109 epoch\r\n",
      "Evaluating\r\n",
      "Test set: raw accuracy: 85.69%, local accuracy: 88.49%\r\n",
      "Saving checkpoint\r\n",
      "Training 110 epoch\r\n",
      "Evaluating\r\n",
      "Test set: raw accuracy: 85.52%, local accuracy: 88.18%\r\n",
      "Saving checkpoint\r\n",
      "Training 111 epoch\r\n",
      "Evaluating\r\n",
      "Test set: raw accuracy: 85.38%, local accuracy: 88.06%\r\n",
      "Saving checkpoint\r\n",
      "Training 112 epoch\r\n",
      "Evaluating\r\n",
      "Test set: raw accuracy: 85.21%, local accuracy: 87.87%\r\n",
      "Saving checkpoint\r\n",
      "Training 113 epoch\r\n",
      "Evaluating\r\n",
      "Test set: raw accuracy: 85.86%, local accuracy: 88.32%\r\n",
      "Saving checkpoint\r\n",
      "Training 114 epoch\r\n",
      "Evaluating\r\n",
      "Test set: raw accuracy: 85.73%, local accuracy: 88.80%\r\n",
      "Saving checkpoint\r\n",
      "Training 115 epoch\r\n",
      "Evaluating\r\n",
      "Test set: raw accuracy: 85.33%, local accuracy: 88.14%\r\n",
      "Saving checkpoint\r\n",
      "Training 116 epoch\r\n",
      "Evaluating\r\n",
      "Test set: raw accuracy: 86.47%, local accuracy: 88.70%\r\n",
      "Saving checkpoint\r\n",
      "Training 117 epoch\r\n",
      "Evaluating\r\n",
      "there is one img no intersection\r\n",
      "there is one img no intersection\r\n",
      "Test set: raw accuracy: 85.05%, local accuracy: 87.73%\r\n",
      "Saving checkpoint\r\n",
      "Training 118 epoch\r\n",
      "Evaluating\r\n",
      "Test set: raw accuracy: 85.28%, local accuracy: 88.04%\r\n",
      "Saving checkpoint\r\n",
      "Training 119 epoch\r\n",
      "Evaluating\r\n",
      "Test set: raw accuracy: 85.31%, local accuracy: 88.16%\r\n",
      "Saving checkpoint\r\n",
      "Training 120 epoch\r\n",
      "Evaluating\r\n",
      "Test set: raw accuracy: 84.54%, local accuracy: 87.81%\r\n",
      "Saving checkpoint\r\n",
      "Training 121 epoch\r\n",
      "Evaluating\r\n",
      "Test set: raw accuracy: 85.33%, local accuracy: 88.26%\r\n",
      "Saving checkpoint\r\n",
      "Training 122 epoch\r\n",
      "Evaluating\r\n",
      "Test set: raw accuracy: 85.61%, local accuracy: 88.40%\r\n",
      "Saving checkpoint\r\n",
      "Training 123 epoch\r\n",
      "Evaluating\r\n",
      "Test set: raw accuracy: 85.69%, local accuracy: 88.26%\r\n",
      "Saving checkpoint\r\n",
      "Training 124 epoch\r\n",
      "Evaluating\r\n",
      "Test set: raw accuracy: 83.62%, local accuracy: 87.81%\r\n",
      "Saving checkpoint\r\n",
      "Training 125 epoch\r\n",
      "Evaluating\r\n",
      "Test set: raw accuracy: 85.30%, local accuracy: 88.40%\r\n",
      "Saving checkpoint\r\n",
      "Training 126 epoch\r\n",
      "Evaluating\r\n",
      "Test set: raw accuracy: 85.57%, local accuracy: 87.95%\r\n",
      "Saving checkpoint\r\n",
      "Training 127 epoch\r\n",
      "Evaluating\r\n",
      "Test set: raw accuracy: 85.57%, local accuracy: 88.28%\r\n",
      "Saving checkpoint\r\n",
      "Training 128 epoch\r\n",
      "Evaluating\r\n",
      "Test set: raw accuracy: 85.23%, local accuracy: 88.42%\r\n",
      "Saving checkpoint\r\n",
      "Training 129 epoch\r\n",
      "Evaluating\r\n",
      "Test set: raw accuracy: 84.78%, local accuracy: 88.09%\r\n",
      "Saving checkpoint\r\n",
      "Training 130 epoch\r\n",
      "Evaluating\r\n",
      "Test set: raw accuracy: 86.07%, local accuracy: 88.33%\r\n",
      "Saving checkpoint\r\n",
      "Training 131 epoch\r\n",
      "Evaluating\r\n",
      "Test set: raw accuracy: 85.71%, local accuracy: 88.11%\r\n",
      "Saving checkpoint\r\n",
      "Training 132 epoch\r\n",
      "Evaluating\r\n",
      "Test set: raw accuracy: 85.24%, local accuracy: 88.32%\r\n",
      "Saving checkpoint\r\n",
      "Training 133 epoch\r\n",
      "Evaluating\r\n",
      "Test set: raw accuracy: 85.67%, local accuracy: 88.49%\r\n",
      "Saving checkpoint\r\n",
      "Training 134 epoch\r\n",
      "Evaluating\r\n",
      "Test set: raw accuracy: 85.69%, local accuracy: 88.49%\r\n",
      "Saving checkpoint\r\n",
      "Training 135 epoch\r\n",
      "Evaluating\r\n",
      "Test set: raw accuracy: 85.69%, local accuracy: 88.40%\r\n",
      "Saving checkpoint\r\n",
      "Training 136 epoch\r\n",
      "Evaluating\r\n",
      "Test set: raw accuracy: 85.74%, local accuracy: 88.42%\r\n",
      "Saving checkpoint\r\n",
      "Training 137 epoch\r\n",
      "Evaluating\r\n",
      "Test set: raw accuracy: 83.97%, local accuracy: 87.23%\r\n",
      "Saving checkpoint\r\n",
      "Training 138 epoch\r\n",
      "Evaluating\r\n",
      "Test set: raw accuracy: 85.57%, local accuracy: 88.40%\r\n",
      "Saving checkpoint\r\n",
      "Training 139 epoch\r\n",
      "Evaluating\r\n",
      "Test set: raw accuracy: 85.45%, local accuracy: 88.47%\r\n",
      "Saving checkpoint\r\n",
      "Training 140 epoch\r\n",
      "Evaluating\r\n",
      "Test set: raw accuracy: 85.88%, local accuracy: 88.16%\r\n",
      "Saving checkpoint\r\n",
      "Training 141 epoch\r\n",
      "Evaluating\r\n",
      "Test set: raw accuracy: 85.38%, local accuracy: 88.44%\r\n",
      "Saving checkpoint\r\n",
      "Training 142 epoch\r\n",
      "Evaluating\r\n",
      "Test set: raw accuracy: 85.42%, local accuracy: 87.99%\r\n",
      "Saving checkpoint\r\n",
      "Training 143 epoch\r\n",
      "Evaluating\r\n",
      "there is one img no intersection\r\n",
      "Test set: raw accuracy: 85.04%, local accuracy: 87.61%\r\n",
      "Saving checkpoint\r\n",
      "Training 144 epoch\r\n",
      "Evaluating\r\n",
      "Test set: raw accuracy: 85.90%, local accuracy: 88.13%\r\n",
      "Saving checkpoint\r\n",
      "Training 145 epoch\r\n",
      "Evaluating\r\n",
      "Test set: raw accuracy: 86.09%, local accuracy: 88.78%\r\n",
      "Saving checkpoint\r\n",
      "Training 146 epoch\r\n",
      "Evaluating\r\n",
      "Test set: raw accuracy: 86.09%, local accuracy: 88.19%\r\n",
      "Saving checkpoint\r\n",
      "Training 147 epoch\r\n",
      "Evaluating\r\n",
      "Test set: raw accuracy: 85.33%, local accuracy: 87.88%\r\n",
      "Saving checkpoint\r\n",
      "Training 148 epoch\r\n",
      "Evaluating\r\n",
      "Test set: raw accuracy: 85.62%, local accuracy: 88.47%\r\n",
      "Saving checkpoint\r\n",
      "Training 149 epoch\r\n",
      "Evaluating\r\n",
      "Test set: raw accuracy: 85.90%, local accuracy: 88.37%\r\n",
      "Saving checkpoint\r\n",
      "Training 150 epoch\r\n",
      "Evaluating\r\n",
      "Test set: raw accuracy: 85.57%, local accuracy: 88.21%\r\n",
      "Saving checkpoint\r\n"
     ]
    }
   ],
   "source": [
    "!python train.py"
   ]
  },
  {
   "cell_type": "code",
   "execution_count": 7,
   "id": "e9d6a320",
   "metadata": {
    "execution": {
     "iopub.execute_input": "2024-09-14T12:36:31.832710Z",
     "iopub.status.busy": "2024-09-14T12:36:31.832326Z",
     "iopub.status.idle": "2024-09-14T12:36:31.838544Z",
     "shell.execute_reply": "2024-09-14T12:36:31.837675Z"
    },
    "papermill": {
     "duration": 0.041501,
     "end_time": "2024-09-14T12:36:31.840719",
     "exception": false,
     "start_time": "2024-09-14T12:36:31.799218",
     "status": "completed"
    },
    "tags": []
   },
   "outputs": [],
   "source": [
    "# # ma\n",
    "# def compute_cam(feature_maps, classifier_weights):\n",
    "#     \"\"\"\n",
    "#     Compute the Class Activation Map (CAM).\n",
    "    \n",
    "#     Args:\n",
    "#         feature_maps (torch.Tensor): Feature maps from the last convolutional layer (shape: [batch_size, num_channels, height, width]).\n",
    "#         classifier_weights (torch.Tensor): Weights of the classifier corresponding to the class (shape: [num_channels]).\n",
    "    \n",
    "#     Returns:\n",
    "#         torch.Tensor: The CAM for the given input (shape: [batch_size, height, width]).\n",
    "#     \"\"\"\n",
    "#     # Compute the weighted sum of the feature maps\n",
    "#     weighted_sum = torch.einsum('ijkl,j->ikl', feature_maps, classifier_weights)\n",
    "    \n",
    "#     # Apply the ReLU function to match the dimensions and normalize\n",
    "#     cam = F.relu(weighted_sum)\n",
    "    \n",
    "#     return cam\n",
    "\n",
    "\n",
    "# def compute_spm(cam):\n",
    "#     \"\"\"\n",
    "#     Compute the Semantic Percent Map (SPM).\n",
    "    \n",
    "#     Args:\n",
    "#         cam (torch.Tensor): The Class Activation Map (CAM) (shape: [batch_size, height, width]).\n",
    "    \n",
    "#     Returns:\n",
    "#         torch.Tensor: The SPM for the given input (shape: [batch_size, height, width]).\n",
    "#     \"\"\"\n",
    "#     # Normalize CAM by its sum to compute SPM\n",
    "#     spm = cam / cam.sum(dim=(1, 2), keepdim=True)\n",
    "    \n",
    "#     return spm\n",
    "\n",
    "# def compute_label_weights(spm, mask_a, mask_b):\n",
    "#     \"\"\"\n",
    "#     Compute the label weights ρa and ρb.\n",
    "    \n",
    "#     Args:\n",
    "#         spm (torch.Tensor): The SPM for the given input (shape: [batch_size, height, width]).\n",
    "#         mask_a (torch.Tensor): Binary mask for region of interest φa (shape: [batch_size, height, width]).\n",
    "#         mask_b (torch.Tensor): Binary mask for region of interest φb (shape: [batch_size, height, width]).\n",
    "    \n",
    "#     Returns:\n",
    "#         Tuple[torch.Tensor, torch.Tensor]: The label weights ρa and ρb.\n",
    "#     \"\"\"\n",
    "#     # Compute ρa\n",
    "#     rho_a = 1 - torch.sum(mask_a * spm, dim=(1, 2))\n",
    "    \n",
    "#     # Compute ρb\n",
    "#     rho_b = torch.sum(mask_b * spm, dim=(1, 2))\n",
    "    \n",
    "#     return rho_a, rho_b\n"
   ]
  },
  {
   "cell_type": "code",
   "execution_count": 8,
   "id": "d2249325",
   "metadata": {
    "execution": {
     "iopub.execute_input": "2024-09-14T12:36:31.904719Z",
     "iopub.status.busy": "2024-09-14T12:36:31.903958Z",
     "iopub.status.idle": "2024-09-14T12:36:31.907690Z",
     "shell.execute_reply": "2024-09-14T12:36:31.906880Z"
    },
    "papermill": {
     "duration": 0.037729,
     "end_time": "2024-09-14T12:36:31.909648",
     "exception": false,
     "start_time": "2024-09-14T12:36:31.871919",
     "status": "completed"
    },
    "tags": []
   },
   "outputs": [],
   "source": [
    "# #!git remote add origin https://github.com/Paris203/Gestion.git\n",
    "# !git branch -M main\n",
    "# !git push -u origin main"
   ]
  },
  {
   "cell_type": "code",
   "execution_count": null,
   "id": "82b92599",
   "metadata": {
    "papermill": {
     "duration": 0.031847,
     "end_time": "2024-09-14T12:36:31.972691",
     "exception": false,
     "start_time": "2024-09-14T12:36:31.940844",
     "status": "completed"
    },
    "tags": []
   },
   "outputs": [],
   "source": []
  }
 ],
 "metadata": {
  "kaggle": {
   "accelerator": "gpu",
   "dataSources": [
    {
     "datasetId": 5689799,
     "sourceId": 9379453,
     "sourceType": "datasetVersion"
    }
   ],
   "dockerImageVersionId": 30762,
   "isGpuEnabled": true,
   "isInternetEnabled": true,
   "language": "python",
   "sourceType": "notebook"
  },
  "kernelspec": {
   "display_name": "Python 3",
   "language": "python",
   "name": "python3"
  },
  "language_info": {
   "codemirror_mode": {
    "name": "ipython",
    "version": 3
   },
   "file_extension": ".py",
   "mimetype": "text/x-python",
   "name": "python",
   "nbconvert_exporter": "python",
   "pygments_lexer": "ipython3",
   "version": "3.10.14"
  },
  "papermill": {
   "default_parameters": {},
   "duration": 29523.671374,
   "end_time": "2024-09-14T12:36:32.221204",
   "environment_variables": {},
   "exception": null,
   "input_path": "__notebook__.ipynb",
   "output_path": "__notebook__.ipynb",
   "parameters": {},
   "start_time": "2024-09-14T04:24:28.549830",
   "version": "2.6.0"
  }
 },
 "nbformat": 4,
 "nbformat_minor": 5
}
