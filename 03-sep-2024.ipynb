{
 "cells": [
  {
   "cell_type": "code",
   "execution_count": 1,
   "id": "6c1a7197",
   "metadata": {
    "execution": {
     "iopub.execute_input": "2024-09-14T13:31:00.094001Z",
     "iopub.status.busy": "2024-09-14T13:31:00.093455Z",
     "iopub.status.idle": "2024-09-14T13:31:02.361999Z",
     "shell.execute_reply": "2024-09-14T13:31:02.360838Z"
    },
    "papermill": {
     "duration": 2.276976,
     "end_time": "2024-09-14T13:31:02.364766",
     "exception": false,
     "start_time": "2024-09-14T13:31:00.087790",
     "status": "completed"
    },
    "tags": []
   },
   "outputs": [],
   "source": [
    "!git config --global user.name \"Paris203\"\n",
    "!git config --global user.email \"bolongott@gmail.com\""
   ]
  },
  {
   "cell_type": "code",
   "execution_count": 2,
   "id": "39953bd6",
   "metadata": {
    "execution": {
     "iopub.execute_input": "2024-09-14T13:31:02.374195Z",
     "iopub.status.busy": "2024-09-14T13:31:02.373803Z",
     "iopub.status.idle": "2024-09-14T13:31:03.491810Z",
     "shell.execute_reply": "2024-09-14T13:31:03.490678Z"
    },
    "papermill": {
     "duration": 1.125601,
     "end_time": "2024-09-14T13:31:03.494411",
     "exception": false,
     "start_time": "2024-09-14T13:31:02.368810",
     "status": "completed"
    },
    "tags": []
   },
   "outputs": [
    {
     "name": "stdout",
     "output_type": "stream",
     "text": [
      "/kaggle/working\r\n"
     ]
    }
   ],
   "source": [
    "!pwd"
   ]
  },
  {
   "cell_type": "code",
   "execution_count": 3,
   "id": "fc6af565",
   "metadata": {
    "execution": {
     "iopub.execute_input": "2024-09-14T13:31:03.503791Z",
     "iopub.status.busy": "2024-09-14T13:31:03.503403Z",
     "iopub.status.idle": "2024-09-14T13:31:46.600103Z",
     "shell.execute_reply": "2024-09-14T13:31:46.598951Z"
    },
    "papermill": {
     "duration": 43.104495,
     "end_time": "2024-09-14T13:31:46.602910",
     "exception": false,
     "start_time": "2024-09-14T13:31:03.498415",
     "status": "completed"
    },
    "tags": []
   },
   "outputs": [
    {
     "name": "stdout",
     "output_type": "stream",
     "text": [
      "Cloning into 'Gestion'...\r\n",
      "remote: Enumerating objects: 12079, done.\u001b[K\r\n",
      "remote: Counting objects: 100% (20/20), done.\u001b[K\r\n",
      "remote: Compressing objects: 100% (17/17), done.\u001b[K\r\n",
      "remote: Total 12079 (delta 3), reused 15 (delta 1), pack-reused 12059 (from 1)\u001b[K\r\n",
      "Receiving objects: 100% (12079/12079), 1.33 GiB | 46.46 MiB/s, done.\r\n",
      "Resolving deltas: 100% (12/12), done.\r\n",
      "Updating files: 100% (11879/11879), done.\r\n"
     ]
    }
   ],
   "source": [
    " !git clone https://github.com/Paris203/Gestion.git"
   ]
  },
  {
   "cell_type": "code",
   "execution_count": 4,
   "id": "456bf6de",
   "metadata": {
    "execution": {
     "iopub.execute_input": "2024-09-14T13:31:46.645893Z",
     "iopub.status.busy": "2024-09-14T13:31:46.645454Z",
     "iopub.status.idle": "2024-09-14T13:31:46.652991Z",
     "shell.execute_reply": "2024-09-14T13:31:46.652064Z"
    },
    "papermill": {
     "duration": 0.031711,
     "end_time": "2024-09-14T13:31:46.655218",
     "exception": false,
     "start_time": "2024-09-14T13:31:46.623507",
     "status": "completed"
    },
    "tags": []
   },
   "outputs": [
    {
     "name": "stdout",
     "output_type": "stream",
     "text": [
      "/kaggle/working/Gestion\n"
     ]
    }
   ],
   "source": [
    "%cd /kaggle/working/Gestion"
   ]
  },
  {
   "cell_type": "code",
   "execution_count": 5,
   "id": "10965014",
   "metadata": {
    "execution": {
     "iopub.execute_input": "2024-09-14T13:31:46.698142Z",
     "iopub.status.busy": "2024-09-14T13:31:46.697775Z",
     "iopub.status.idle": "2024-09-14T13:31:47.814124Z",
     "shell.execute_reply": "2024-09-14T13:31:47.812879Z"
    },
    "papermill": {
     "duration": 1.140884,
     "end_time": "2024-09-14T13:31:47.816777",
     "exception": false,
     "start_time": "2024-09-14T13:31:46.675893",
     "status": "completed"
    },
    "tags": []
   },
   "outputs": [
    {
     "name": "stdout",
     "output_type": "stream",
     "text": [
      "total 48\r\n",
      "-rw-r--r-- 1 root root 11357 Sep 14 13:31 LICENSE\r\n",
      "drwxr-xr-x 4 root root  4096 Sep 14 13:31 \u001b[0m\u001b[01;34mcheckpoint\u001b[0m/\r\n",
      "-rw-r--r-- 1 root root  2636 Sep 14 13:31 config.py\r\n",
      "drwxr-xr-x 5 root root  4096 Sep 14 13:31 \u001b[01;34mdatasets_m\u001b[0m/\r\n",
      "drwxr-xr-x 2 root root  4096 Sep 14 13:31 \u001b[01;34menvconfig\u001b[0m/\r\n",
      "drwxr-xr-x 4 root root  4096 Sep 14 13:31 \u001b[01;34mmodels\u001b[0m/\r\n",
      "drwxr-xr-x 2 root root  4096 Sep 14 13:31 \u001b[01;34mnetworks\u001b[0m/\r\n",
      "-rw-r--r-- 1 root root  1808 Sep 14 13:31 test.py\r\n",
      "-rw-r--r-- 1 root root  2430 Sep 14 13:31 train.py\r\n",
      "drwxr-xr-x 2 root root  4096 Sep 14 13:31 \u001b[01;34mutils\u001b[0m/\r\n"
     ]
    }
   ],
   "source": [
    "ls -l"
   ]
  },
  {
   "cell_type": "code",
   "execution_count": 6,
   "id": "04f696f8",
   "metadata": {
    "execution": {
     "iopub.execute_input": "2024-09-14T13:31:47.862540Z",
     "iopub.status.busy": "2024-09-14T13:31:47.861972Z",
     "iopub.status.idle": "2024-09-14T22:10:08.339713Z",
     "shell.execute_reply": "2024-09-14T22:10:08.338609Z"
    },
    "papermill": {
     "duration": 31100.504475,
     "end_time": "2024-09-14T22:10:08.342300",
     "exception": false,
     "start_time": "2024-09-14T13:31:47.837825",
     "status": "completed"
    },
    "tags": []
   },
   "outputs": [
    {
     "name": "stdout",
     "output_type": "stream",
     "text": [
      "Loading CUB trainset\r\n",
      "Loading CUB testset\r\n",
      "/kaggle/working/Gestion/networks/resnet.py:248: FutureWarning: You are using `torch.load` with `weights_only=False` (the current default value), which uses the default pickle module implicitly. It is possible to construct malicious pickle data which will execute arbitrary code during unpickling (See https://github.com/pytorch/pytorch/blob/main/SECURITY.md#untrusted-models for more details). In a future release, the default value for `weights_only` will be flipped to `True`. This limits the functions that could be executed during unpickling. Arbitrary objects will no longer be allowed to be loaded via this mode unless they are explicitly allowlisted by the user via `torch.serialization.add_safe_globals`. We recommend you start setting `weights_only=True` for any use case where you don't have full control of the loaded file. Please open an issue on GitHub for any issues related to this experimental feature.\r\n",
      "  state_dict = torch.load(pth_path)\r\n",
      "Created directory for saving checkpoints: result of the model\r\n",
      "Model loaded successfully.\r\n",
      "Checkpoint loaded from epoch 150, with learning rate 0.001 and train accuracy 1.000\r\n",
      "Resuming training from epoch 151\r\n",
      "Training 151 epoch\r\n",
      "Evaluating\r\n",
      "Test set: raw accuracy: 85.71%, local accuracy: 88.32%\r\n",
      "Saving checkpoint\r\n",
      "Training 152 epoch\r\n",
      "Evaluating\r\n",
      "Test set: raw accuracy: 85.52%, local accuracy: 88.49%\r\n",
      "Saving checkpoint\r\n",
      "Training 153 epoch\r\n",
      "Evaluating\r\n",
      "Test set: raw accuracy: 85.80%, local accuracy: 88.28%\r\n",
      "Saving checkpoint\r\n",
      "Training 154 epoch\r\n",
      "Evaluating\r\n",
      "Test set: raw accuracy: 85.71%, local accuracy: 88.40%\r\n",
      "Saving checkpoint\r\n",
      "Training 155 epoch\r\n",
      "Evaluating\r\n",
      "Test set: raw accuracy: 84.09%, local accuracy: 87.63%\r\n",
      "Saving checkpoint\r\n",
      "Training 156 epoch\r\n",
      "Evaluating\r\n",
      "Test set: raw accuracy: 85.50%, local accuracy: 88.78%\r\n",
      "Saving checkpoint\r\n",
      "Training 157 epoch\r\n",
      "Evaluating\r\n",
      "Test set: raw accuracy: 85.09%, local accuracy: 88.25%\r\n",
      "Saving checkpoint\r\n",
      "Training 158 epoch\r\n",
      "Evaluating\r\n",
      "Test set: raw accuracy: 85.47%, local accuracy: 88.28%\r\n",
      "Saving checkpoint\r\n",
      "Training 159 epoch\r\n",
      "Evaluating\r\n",
      "Test set: raw accuracy: 85.11%, local accuracy: 87.69%\r\n",
      "Saving checkpoint\r\n",
      "Training 160 epoch\r\n",
      "Evaluating\r\n",
      "Test set: raw accuracy: 85.76%, local accuracy: 88.25%\r\n",
      "Saving checkpoint\r\n",
      "Training 161 epoch\r\n",
      "Evaluating\r\n",
      "Test set: raw accuracy: 85.93%, local accuracy: 88.51%\r\n",
      "Saving checkpoint\r\n",
      "Training 162 epoch\r\n",
      "Evaluating\r\n",
      "Test set: raw accuracy: 86.19%, local accuracy: 88.63%\r\n",
      "Saving checkpoint\r\n",
      "Training 163 epoch\r\n",
      "Evaluating\r\n",
      "Test set: raw accuracy: 85.57%, local accuracy: 88.30%\r\n",
      "Saving checkpoint\r\n",
      "Training 164 epoch\r\n",
      "Evaluating\r\n",
      "Test set: raw accuracy: 84.33%, local accuracy: 87.52%\r\n",
      "Saving checkpoint\r\n",
      "Training 165 epoch\r\n",
      "Evaluating\r\n",
      "Test set: raw accuracy: 85.93%, local accuracy: 88.09%\r\n",
      "Saving checkpoint\r\n",
      "Training 166 epoch\r\n",
      "Evaluating\r\n",
      "Test set: raw accuracy: 85.88%, local accuracy: 88.35%\r\n",
      "Saving checkpoint\r\n",
      "Training 167 epoch\r\n",
      "Evaluating\r\n",
      "Test set: raw accuracy: 84.62%, local accuracy: 87.28%\r\n",
      "Saving checkpoint\r\n",
      "Training 168 epoch\r\n",
      "Evaluating\r\n",
      "Test set: raw accuracy: 85.28%, local accuracy: 87.95%\r\n",
      "Saving checkpoint\r\n",
      "Training 169 epoch\r\n",
      "Evaluating\r\n",
      "Test set: raw accuracy: 84.73%, local accuracy: 88.04%\r\n",
      "Saving checkpoint\r\n",
      "Training 170 epoch\r\n",
      "Evaluating\r\n",
      "Test set: raw accuracy: 85.47%, local accuracy: 88.49%\r\n",
      "Saving checkpoint\r\n",
      "Training 171 epoch\r\n",
      "Evaluating\r\n",
      "Test set: raw accuracy: 85.61%, local accuracy: 88.38%\r\n",
      "Saving checkpoint\r\n",
      "Training 172 epoch\r\n",
      "Evaluating\r\n",
      "Test set: raw accuracy: 86.28%, local accuracy: 88.47%\r\n",
      "Saving checkpoint\r\n",
      "Training 173 epoch\r\n",
      "Evaluating\r\n",
      "Test set: raw accuracy: 85.88%, local accuracy: 88.33%\r\n",
      "Saving checkpoint\r\n",
      "Training 174 epoch\r\n",
      "Evaluating\r\n",
      "Test set: raw accuracy: 85.99%, local accuracy: 88.26%\r\n",
      "Saving checkpoint\r\n",
      "Training 175 epoch\r\n",
      "Evaluating\r\n",
      "Test set: raw accuracy: 86.09%, local accuracy: 88.80%\r\n",
      "Saving checkpoint\r\n",
      "Training 176 epoch\r\n",
      "Evaluating\r\n",
      "Test set: raw accuracy: 85.93%, local accuracy: 88.00%\r\n",
      "Saving checkpoint\r\n",
      "Training 177 epoch\r\n",
      "Evaluating\r\n",
      "Test set: raw accuracy: 85.61%, local accuracy: 88.44%\r\n",
      "Saving checkpoint\r\n",
      "Training 178 epoch\r\n",
      "Evaluating\r\n",
      "Test set: raw accuracy: 85.42%, local accuracy: 88.23%\r\n",
      "Saving checkpoint\r\n",
      "Training 179 epoch\r\n",
      "Evaluating\r\n",
      "Test set: raw accuracy: 85.59%, local accuracy: 88.28%\r\n",
      "Saving checkpoint\r\n",
      "Training 180 epoch\r\n",
      "Evaluating\r\n",
      "Test set: raw accuracy: 85.69%, local accuracy: 88.16%\r\n",
      "Saving checkpoint\r\n",
      "Training 181 epoch\r\n",
      "Evaluating\r\n",
      "Test set: raw accuracy: 85.57%, local accuracy: 88.52%\r\n",
      "Saving checkpoint\r\n",
      "Training 182 epoch\r\n",
      "Evaluating\r\n",
      "Test set: raw accuracy: 85.11%, local accuracy: 88.07%\r\n",
      "Saving checkpoint\r\n",
      "Training 183 epoch\r\n",
      "Evaluating\r\n",
      "Test set: raw accuracy: 85.28%, local accuracy: 88.30%\r\n",
      "Saving checkpoint\r\n",
      "Training 184 epoch\r\n",
      "Evaluating\r\n",
      "Test set: raw accuracy: 85.38%, local accuracy: 88.18%\r\n",
      "Saving checkpoint\r\n",
      "Training 185 epoch\r\n",
      "Evaluating\r\n",
      "Test set: raw accuracy: 86.05%, local accuracy: 88.33%\r\n",
      "Saving checkpoint\r\n",
      "Training 186 epoch\r\n",
      "Evaluating\r\n",
      "Test set: raw accuracy: 85.48%, local accuracy: 88.35%\r\n",
      "Saving checkpoint\r\n",
      "Training 187 epoch\r\n",
      "Evaluating\r\n",
      "Test set: raw accuracy: 85.80%, local accuracy: 88.11%\r\n",
      "Saving checkpoint\r\n",
      "Training 188 epoch\r\n",
      "Evaluating\r\n",
      "Test set: raw accuracy: 85.45%, local accuracy: 88.33%\r\n",
      "Saving checkpoint\r\n",
      "Training 189 epoch\r\n",
      "Evaluating\r\n",
      "Test set: raw accuracy: 85.12%, local accuracy: 88.40%\r\n",
      "Saving checkpoint\r\n",
      "Training 190 epoch\r\n",
      "Evaluating\r\n",
      "Test set: raw accuracy: 86.02%, local accuracy: 88.47%\r\n",
      "Saving checkpoint\r\n",
      "Training 191 epoch\r\n",
      "Evaluating\r\n",
      "Test set: raw accuracy: 85.80%, local accuracy: 88.61%\r\n",
      "Saving checkpoint\r\n",
      "Training 192 epoch\r\n",
      "Evaluating\r\n",
      "Test set: raw accuracy: 85.78%, local accuracy: 88.97%\r\n",
      "Saving checkpoint\r\n",
      "Training 193 epoch\r\n",
      "Evaluating\r\n",
      "Test set: raw accuracy: 85.93%, local accuracy: 88.78%\r\n",
      "Saving checkpoint\r\n",
      "Training 194 epoch\r\n",
      "Evaluating\r\n",
      "Test set: raw accuracy: 85.21%, local accuracy: 88.11%\r\n",
      "Saving checkpoint\r\n",
      "Training 195 epoch\r\n",
      "Evaluating\r\n",
      "Test set: raw accuracy: 85.54%, local accuracy: 88.68%\r\n",
      "Saving checkpoint\r\n",
      "Training 196 epoch\r\n",
      "Evaluating\r\n",
      "Test set: raw accuracy: 85.38%, local accuracy: 88.40%\r\n",
      "Saving checkpoint\r\n",
      "Training 197 epoch\r\n",
      "Evaluating\r\n",
      "Test set: raw accuracy: 85.76%, local accuracy: 88.25%\r\n",
      "Saving checkpoint\r\n",
      "Training 198 epoch\r\n",
      "Evaluating\r\n",
      "Test set: raw accuracy: 85.62%, local accuracy: 88.47%\r\n",
      "Saving checkpoint\r\n",
      "Training 199 epoch\r\n",
      "Evaluating\r\n",
      "Test set: raw accuracy: 85.66%, local accuracy: 88.61%\r\n",
      "Saving checkpoint\r\n",
      "Training 200 epoch\r\n",
      "Evaluating\r\n",
      "Test set: raw accuracy: 85.85%, local accuracy: 88.33%\r\n",
      "Saving checkpoint\r\n"
     ]
    }
   ],
   "source": [
    "!python train.py"
   ]
  },
  {
   "cell_type": "code",
   "execution_count": 7,
   "id": "70445a2b",
   "metadata": {
    "execution": {
     "iopub.execute_input": "2024-09-14T22:10:08.427400Z",
     "iopub.status.busy": "2024-09-14T22:10:08.426475Z",
     "iopub.status.idle": "2024-09-14T22:10:08.433661Z",
     "shell.execute_reply": "2024-09-14T22:10:08.432692Z"
    },
    "papermill": {
     "duration": 0.049569,
     "end_time": "2024-09-14T22:10:08.435945",
     "exception": false,
     "start_time": "2024-09-14T22:10:08.386376",
     "status": "completed"
    },
    "tags": []
   },
   "outputs": [],
   "source": [
    "# # ma\n",
    "# def compute_cam(feature_maps, classifier_weights):\n",
    "#     \"\"\"\n",
    "#     Compute the Class Activation Map (CAM).\n",
    "    \n",
    "#     Args:\n",
    "#         feature_maps (torch.Tensor): Feature maps from the last convolutional layer (shape: [batch_size, num_channels, height, width]).\n",
    "#         classifier_weights (torch.Tensor): Weights of the classifier corresponding to the class (shape: [num_channels]).\n",
    "    \n",
    "#     Returns:\n",
    "#         torch.Tensor: The CAM for the given input (shape: [batch_size, height, width]).\n",
    "#     \"\"\"\n",
    "#     # Compute the weighted sum of the feature maps\n",
    "#     weighted_sum = torch.einsum('ijkl,j->ikl', feature_maps, classifier_weights)\n",
    "    \n",
    "#     # Apply the ReLU function to match the dimensions and normalize\n",
    "#     cam = F.relu(weighted_sum)\n",
    "    \n",
    "#     return cam\n",
    "\n",
    "\n",
    "# def compute_spm(cam):\n",
    "#     \"\"\"\n",
    "#     Compute the Semantic Percent Map (SPM).\n",
    "    \n",
    "#     Args:\n",
    "#         cam (torch.Tensor): The Class Activation Map (CAM) (shape: [batch_size, height, width]).\n",
    "    \n",
    "#     Returns:\n",
    "#         torch.Tensor: The SPM for the given input (shape: [batch_size, height, width]).\n",
    "#     \"\"\"\n",
    "#     # Normalize CAM by its sum to compute SPM\n",
    "#     spm = cam / cam.sum(dim=(1, 2), keepdim=True)\n",
    "    \n",
    "#     return spm\n",
    "\n",
    "# def compute_label_weights(spm, mask_a, mask_b):\n",
    "#     \"\"\"\n",
    "#     Compute the label weights ρa and ρb.\n",
    "    \n",
    "#     Args:\n",
    "#         spm (torch.Tensor): The SPM for the given input (shape: [batch_size, height, width]).\n",
    "#         mask_a (torch.Tensor): Binary mask for region of interest φa (shape: [batch_size, height, width]).\n",
    "#         mask_b (torch.Tensor): Binary mask for region of interest φb (shape: [batch_size, height, width]).\n",
    "    \n",
    "#     Returns:\n",
    "#         Tuple[torch.Tensor, torch.Tensor]: The label weights ρa and ρb.\n",
    "#     \"\"\"\n",
    "#     # Compute ρa\n",
    "#     rho_a = 1 - torch.sum(mask_a * spm, dim=(1, 2))\n",
    "    \n",
    "#     # Compute ρb\n",
    "#     rho_b = torch.sum(mask_b * spm, dim=(1, 2))\n",
    "    \n",
    "#     return rho_a, rho_b\n"
   ]
  },
  {
   "cell_type": "code",
   "execution_count": 8,
   "id": "bc7d3ab4",
   "metadata": {
    "execution": {
     "iopub.execute_input": "2024-09-14T22:10:08.514541Z",
     "iopub.status.busy": "2024-09-14T22:10:08.514082Z",
     "iopub.status.idle": "2024-09-14T22:10:08.518487Z",
     "shell.execute_reply": "2024-09-14T22:10:08.517569Z"
    },
    "papermill": {
     "duration": 0.046507,
     "end_time": "2024-09-14T22:10:08.520643",
     "exception": false,
     "start_time": "2024-09-14T22:10:08.474136",
     "status": "completed"
    },
    "tags": []
   },
   "outputs": [],
   "source": [
    "# #!git remote add origin https://github.com/Paris203/Gestion.git\n",
    "# !git branch -M main\n",
    "# !git push -u origin main"
   ]
  },
  {
   "cell_type": "code",
   "execution_count": null,
   "id": "ff119693",
   "metadata": {
    "papermill": {
     "duration": 0.038095,
     "end_time": "2024-09-14T22:10:08.597193",
     "exception": false,
     "start_time": "2024-09-14T22:10:08.559098",
     "status": "completed"
    },
    "tags": []
   },
   "outputs": [],
   "source": []
  }
 ],
 "metadata": {
  "kaggle": {
   "accelerator": "gpu",
   "dataSources": [],
   "dockerImageVersionId": 30762,
   "isGpuEnabled": true,
   "isInternetEnabled": true,
   "language": "python",
   "sourceType": "notebook"
  },
  "kernelspec": {
   "display_name": "Python 3",
   "language": "python",
   "name": "python3"
  },
  "language_info": {
   "codemirror_mode": {
    "name": "ipython",
    "version": 3
   },
   "file_extension": ".py",
   "mimetype": "text/x-python",
   "name": "python",
   "nbconvert_exporter": "python",
   "pygments_lexer": "ipython3",
   "version": "3.10.14"
  },
  "papermill": {
   "default_parameters": {},
   "duration": 31151.951029,
   "end_time": "2024-09-14T22:10:08.954565",
   "environment_variables": {},
   "exception": null,
   "input_path": "__notebook__.ipynb",
   "output_path": "__notebook__.ipynb",
   "parameters": {},
   "start_time": "2024-09-14T13:30:57.003536",
   "version": "2.6.0"
  }
 },
 "nbformat": 4,
 "nbformat_minor": 5
}
